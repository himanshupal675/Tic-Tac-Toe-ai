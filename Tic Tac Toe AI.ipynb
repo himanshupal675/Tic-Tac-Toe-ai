{
 "cells": [
  {
   "cell_type": "code",
   "execution_count": 1,
   "id": "67e3424b-f223-4a70-b030-91eae7671d02",
   "metadata": {},
   "outputs": [
    {
     "name": "stdout",
     "output_type": "stream",
     "text": [
      "Tic-Tac-Toe - You are 'X', AI is 'O'\n",
      "None | None | None\n",
      "---------\n",
      "None | None | None\n",
      "---------\n",
      "None | None | None\n"
     ]
    },
    {
     "name": "stdin",
     "output_type": "stream",
     "text": [
      "Enter your move (0-8):  6\n"
     ]
    },
    {
     "name": "stdout",
     "output_type": "stream",
     "text": [
      "None | None | None\n",
      "---------\n",
      "None | None | None\n",
      "---------\n",
      "X | None | None\n",
      "AI plays at 4\n",
      "None | None | None\n",
      "---------\n",
      "None | O | None\n",
      "---------\n",
      "X | None | None\n"
     ]
    },
    {
     "name": "stdin",
     "output_type": "stream",
     "text": [
      "Enter your move (0-8):  4\n"
     ]
    },
    {
     "name": "stdout",
     "output_type": "stream",
     "text": [
      "Cell is already occupied. Try again.\n"
     ]
    },
    {
     "name": "stdin",
     "output_type": "stream",
     "text": [
      "Enter your move (0-8):  8\n"
     ]
    },
    {
     "name": "stdout",
     "output_type": "stream",
     "text": [
      "None | None | None\n",
      "---------\n",
      "None | O | None\n",
      "---------\n",
      "X | None | X\n",
      "AI plays at 7\n",
      "None | None | None\n",
      "---------\n",
      "None | O | None\n",
      "---------\n",
      "X | O | X\n"
     ]
    },
    {
     "name": "stdin",
     "output_type": "stream",
     "text": [
      "Enter your move (0-8):  1\n"
     ]
    },
    {
     "name": "stdout",
     "output_type": "stream",
     "text": [
      "None | X | None\n",
      "---------\n",
      "None | O | None\n",
      "---------\n",
      "X | O | X\n",
      "AI plays at 0\n",
      "O | X | None\n",
      "---------\n",
      "None | O | None\n",
      "---------\n",
      "X | O | X\n"
     ]
    },
    {
     "name": "stdin",
     "output_type": "stream",
     "text": [
      "Enter your move (0-8):  5\n"
     ]
    },
    {
     "name": "stdout",
     "output_type": "stream",
     "text": [
      "O | X | None\n",
      "---------\n",
      "None | O | X\n",
      "---------\n",
      "X | O | X\n",
      "AI plays at 2\n",
      "O | X | O\n",
      "---------\n",
      "None | O | X\n",
      "---------\n",
      "X | O | X\n"
     ]
    },
    {
     "name": "stdin",
     "output_type": "stream",
     "text": [
      "Enter your move (0-8):  3\n"
     ]
    },
    {
     "name": "stdout",
     "output_type": "stream",
     "text": [
      "O | X | O\n",
      "---------\n",
      "X | O | X\n",
      "---------\n",
      "X | O | X\n",
      "It's a draw!\n"
     ]
    }
   ],
   "source": [
    "import math\n",
    "\n",
    "# The Tic-Tac-Toe board is represented as a list of lists.\n",
    "# 'X' represents the human player, 'O' represents the AI player, and None represents an empty cell.\n",
    "# The board is indexed as follows:\n",
    "# 0 | 1 | 2\n",
    "# ---------\n",
    "# 3 | 4 | 5\n",
    "# ---------\n",
    "# 6 | 7 | 8\n",
    "\n",
    "def print_board(board):\n",
    "    for i in range(0, 9, 3):\n",
    "        print(f\"{board[i]} | {board[i + 1]} | {board[i + 2]}\")\n",
    "        if i < 6:\n",
    "            print(\"---------\")\n",
    "\n",
    "def is_winner(board, player):\n",
    "    # Check rows, columns, and diagonals for a win\n",
    "    winning_combinations = [\n",
    "        [0, 1, 2], [3, 4, 5], [6, 7, 8],  # rows\n",
    "        [0, 3, 6], [1, 4, 7], [2, 5, 8],  # columns\n",
    "        [0, 4, 8], [2, 4, 6]             # diagonals\n",
    "    ]\n",
    "    for combo in winning_combinations:\n",
    "        if all(board[i] == player for i in combo):\n",
    "            return True\n",
    "    return False\n",
    "\n",
    "def is_board_full(board):\n",
    "    return all(cell is not None for cell in board)\n",
    "\n",
    "def minimax(board, depth, maximizing_player, alpha, beta):\n",
    "    if is_winner(board, 'O'):\n",
    "        return 1\n",
    "    if is_winner(board, 'X'):\n",
    "        return -1\n",
    "    if is_board_full(board):\n",
    "        return 0\n",
    "    \n",
    "    if maximizing_player:\n",
    "        max_eval = -math.inf\n",
    "        for i in range(9):\n",
    "            if board[i] is None:\n",
    "                board[i] = 'O'\n",
    "                eval = minimax(board, depth + 1, False, alpha, beta)\n",
    "                board[i] = None\n",
    "                max_eval = max(max_eval, eval)\n",
    "                alpha = max(alpha, eval)\n",
    "                if beta <= alpha:\n",
    "                    break\n",
    "        return max_eval\n",
    "    else:\n",
    "        min_eval = math.inf\n",
    "        for i in range(9):\n",
    "            if board[i] is None:\n",
    "                board[i] = 'X'\n",
    "                eval = minimax(board, depth + 1, True, alpha, beta)\n",
    "                board[i] = None\n",
    "                min_eval = min(min_eval, eval)\n",
    "                beta = min(beta, eval)\n",
    "                if beta <= alpha:\n",
    "                    break\n",
    "        return min_eval\n",
    "\n",
    "def find_best_move(board):\n",
    "    best_move = -1\n",
    "    best_eval = -math.inf\n",
    "    for i in range(9):\n",
    "        if board[i] is None:\n",
    "            board[i] = 'O'\n",
    "            move_eval = minimax(board, 0, False, -math.inf, math.inf)\n",
    "            board[i] = None\n",
    "            if move_eval > best_eval:\n",
    "                best_eval = move_eval\n",
    "                best_move = i\n",
    "    return best_move\n",
    "\n",
    "def main():\n",
    "    board = [None] * 9\n",
    "    print(\"Tic-Tac-Toe - You are 'X', AI is 'O'\")\n",
    "    print_board(board)\n",
    "\n",
    "    while True:\n",
    "        player_move = int(input(\"Enter your move (0-8): \"))\n",
    "        if board[player_move] is not None:\n",
    "            print(\"Cell is already occupied. Try again.\")\n",
    "            continue\n",
    "\n",
    "        board[player_move] = 'X'\n",
    "        print_board(board)\n",
    "\n",
    "        if is_winner(board, 'X'):\n",
    "            print(\"Congratulations! You win!\")\n",
    "            break\n",
    "        elif is_board_full(board):\n",
    "            print(\"It's a draw!\")\n",
    "            break\n",
    "\n",
    "        ai_move = find_best_move(board)\n",
    "        board[ai_move] = 'O'\n",
    "        print(f\"AI plays at {ai_move}\")\n",
    "        print_board(board)\n",
    "\n",
    "        if is_winner(board, 'O'):\n",
    "            print(\"AI wins! Better luck next time.\")\n",
    "            break\n",
    "        elif is_board_full(board):\n",
    "            print(\"It's a draw!\")\n",
    "            break\n",
    "\n",
    "if __name__ == \"__main__\":\n",
    "    main()\n"
   ]
  },
  {
   "cell_type": "code",
   "execution_count": null,
   "id": "d998eaae-a401-42eb-9028-a2761da0635d",
   "metadata": {},
   "outputs": [],
   "source": []
  }
 ],
 "metadata": {
  "kernelspec": {
   "display_name": "Python 3 (ipykernel)",
   "language": "python",
   "name": "python3"
  },
  "language_info": {
   "codemirror_mode": {
    "name": "ipython",
    "version": 3
   },
   "file_extension": ".py",
   "mimetype": "text/x-python",
   "name": "python",
   "nbconvert_exporter": "python",
   "pygments_lexer": "ipython3",
   "version": "3.10.9"
  }
 },
 "nbformat": 4,
 "nbformat_minor": 5
}
